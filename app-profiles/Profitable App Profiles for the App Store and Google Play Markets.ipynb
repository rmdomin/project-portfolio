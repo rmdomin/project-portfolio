{
 "cells": [
  {
   "cell_type": "markdown",
   "metadata": {},
   "source": [
    "# Profitable App Profiles for the App Store and Google Play Markets\n",
    "\n",
    "In this project, we will explore what applications will best engage users to increase revenue for developers on Google Play and the App Store, using two datasets. We will pretend we are working as data analysts for a company that builds Android and iOS mobile apps, available in their respective stores. Our company only builds apps that are free to download and install, with our main source of revenue comprising in-app ads. The more users who see and engage with the ads, the higher our revenue. Our goal is to provide insight for developers on what kind of apps are likely to attract more users. \n",
    "\n",
    "Documentation for the Google Play Store apps dataset can be found [here](https://www.kaggle.com/lava18/google-play-store-apps), and documentation for the App Store apps dataset can be found [here](https://www.kaggle.com/ramamet4/app-store-apple-data-set-10k-apps)."
   ]
  },
  {
   "cell_type": "code",
   "execution_count": 1,
   "metadata": {},
   "outputs": [],
   "source": [
    "from csv import reader\n",
    "\n",
    "# Importing the App Store data set\n",
    "opened_file_1 = open('AppleStore.csv', encoding = \"utf8\")\n",
    "read_file_1 = reader(opened_file_1)\n",
    "app_Store = list(read_file_1)\n",
    "\n",
    "# Importing the App Store data set\n",
    "opened_file_2 = open('googleplaystore.csv', encoding = \"utf8\")\n",
    "read_file_2 = reader(opened_file_2)\n",
    "gp_Store = list(read_file_2)"
   ]
  },
  {
   "cell_type": "markdown",
   "metadata": {},
   "source": [
    "To ease the process of exploring these data sets, we'll write a function called `explore_data()`. We'll also add an option for `explore_data()` to show the number of rows and columns for any data set."
   ]
  },
  {
   "cell_type": "code",
   "execution_count": 2,
   "metadata": {},
   "outputs": [],
   "source": [
    "def explore_Data(dataset, start, end, rows_And_Columns=False):\n",
    "    dataset_Slice = dataset[start:end]    \n",
    "    for row in dataset_Slice:\n",
    "        print(row)\n",
    "        print('\\n') # adds a new (empty) line after each row\n",
    "\n",
    "    if rows_And_Columns:\n",
    "        print('Number of rows:', len(dataset))\n",
    "        print('Number of columns:', len(dataset[0]))"
   ]
  },
  {
   "cell_type": "code",
   "execution_count": 3,
   "metadata": {},
   "outputs": [
    {
     "name": "stdout",
     "output_type": "stream",
     "text": [
      "['id', 'track_name', 'size_bytes', 'currency', 'price', 'rating_count_tot', 'rating_count_ver', 'user_rating', 'user_rating_ver', 'ver', 'cont_rating', 'prime_genre', 'sup_devices.num', 'ipadSc_urls.num', 'lang.num', 'vpp_lic']\n",
      "\n",
      "\n",
      "['284882215', 'Facebook', '389879808', 'USD', '0.0', '2974676', '212', '3.5', '3.5', '95.0', '4+', 'Social Networking', '37', '1', '29', '1']\n",
      "\n",
      "\n",
      "['389801252', 'Instagram', '113954816', 'USD', '0.0', '2161558', '1289', '4.5', '4.0', '10.23', '12+', 'Photo & Video', '37', '0', '29', '1']\n",
      "\n",
      "\n",
      "['529479190', 'Clash of Clans', '116476928', 'USD', '0.0', '2130805', '579', '4.5', '4.5', '9.24.12', '9+', 'Games', '38', '5', '18', '1']\n",
      "\n",
      "\n",
      "['420009108', 'Temple Run', '65921024', 'USD', '0.0', '1724546', '3842', '4.5', '4.0', '1.6.2', '9+', 'Games', '40', '5', '1', '1']\n",
      "\n",
      "\n",
      "Number of rows: 7198\n",
      "Number of columns: 16\n"
     ]
    }
   ],
   "source": [
    "explore_Data(app_Store, 0, 5, True)"
   ]
  },
  {
   "cell_type": "markdown",
   "metadata": {},
   "source": [
    "Of all the columns in the app_Store data set, `track_name, size_bytes, price, user_rating, cont_rating, prime_genre` are all variables of interest. We can also see our data set has 7,198 rows and 16 columns."
   ]
  },
  {
   "cell_type": "code",
   "execution_count": 4,
   "metadata": {},
   "outputs": [
    {
     "name": "stdout",
     "output_type": "stream",
     "text": [
      "['App', 'Category', 'Rating', 'Reviews', 'Size', 'Installs', 'Type', 'Price', 'Content Rating', 'Genres', 'Last Updated', 'Current Ver', 'Android Ver']\n",
      "\n",
      "\n",
      "['Photo Editor & Candy Camera & Grid & ScrapBook', 'ART_AND_DESIGN', '4.1', '159', '19M', '10,000+', 'Free', '0', 'Everyone', 'Art & Design', 'January 7, 2018', '1.0.0', '4.0.3 and up']\n",
      "\n",
      "\n",
      "['Coloring book moana', 'ART_AND_DESIGN', '3.9', '967', '14M', '500,000+', 'Free', '0', 'Everyone', 'Art & Design;Pretend Play', 'January 15, 2018', '2.0.0', '4.0.3 and up']\n",
      "\n",
      "\n",
      "['U Launcher Lite – FREE Live Cool Themes, Hide Apps', 'ART_AND_DESIGN', '4.7', '87510', '8.7M', '5,000,000+', 'Free', '0', 'Everyone', 'Art & Design', 'August 1, 2018', '1.2.4', '4.0.3 and up']\n",
      "\n",
      "\n",
      "['Sketch - Draw & Paint', 'ART_AND_DESIGN', '4.5', '215644', '25M', '50,000,000+', 'Free', '0', 'Teen', 'Art & Design', 'June 8, 2018', 'Varies with device', '4.2 and up']\n",
      "\n",
      "\n",
      "Number of rows: 10842\n",
      "Number of columns: 13\n"
     ]
    }
   ],
   "source": [
    "explore_Data(gp_Store, 0, 5, True)"
   ]
  },
  {
   "cell_type": "markdown",
   "metadata": {},
   "source": [
    "Of all the columns in the gp_Store data set,`App, Category, Rating, Size, Installs, Type, Price, Content Rating, Genre` are all variables of interest. We can also see that our data set has 10,841 rows and 13 columns.\n",
    "## Removing Incomplete Data\n",
    "\n",
    "According to an [online discussion](https://www.kaggle.com/lava18/google-play-store-apps/discussion) for the Google Play data set, there is [an error for row 10472](https://www.kaggle.com/lava18/google-play-store-apps/discussion/66015). "
   ]
  },
  {
   "cell_type": "code",
   "execution_count": 5,
   "metadata": {},
   "outputs": [
    {
     "name": "stdout",
     "output_type": "stream",
     "text": [
      "['Life Made WI-Fi Touchscreen Photo Frame', '1.9', '19', '3.0M', '1,000+', 'Free', '0', 'Everyone', '', 'February 11, 2018', '1.0.19', '4.0 and up']\n",
      "\n",
      "\n",
      "['App', 'Category', 'Rating', 'Reviews', 'Size', 'Installs', 'Type', 'Price', 'Content Rating', 'Genres', 'Last Updated', 'Current Ver', 'Android Ver']\n",
      "\n",
      "\n",
      "['Photo Editor & Candy Camera & Grid & ScrapBook', 'ART_AND_DESIGN', '4.1', '159', '19M', '10,000+', 'Free', '0', 'Everyone', 'Art & Design', 'January 7, 2018', '1.0.0', '4.0.3 and up']\n",
      "\n",
      "\n"
     ]
    }
   ],
   "source": [
    "explore_Data(gp_Store, 10473, 10474) # incorrect row, note the header row is still in the data set thus we look at row 10473.\n",
    "\n",
    "explore_Data(gp_Store, 0, 1)         # header\n",
    "\n",
    "explore_Data(gp_Store, 1, 2)         # instance of correct row"
   ]
  },
  {
   "cell_type": "markdown",
   "metadata": {},
   "source": [
    "We see the incorrect row corresponds to the app *Life Made WI-Fi Touchscreen Photo Frame*, with a rating of 19. The maximum rating for apps in the Google Play store is 5. According to its [discussions section](https://www.kaggle.com/lava18/google-play-store-apps/discussion/66015), the mistake appears to be caused by a missing value in the 'Category' column , so we will remove this row from the dataset."
   ]
  },
  {
   "cell_type": "code",
   "execution_count": 6,
   "metadata": {},
   "outputs": [
    {
     "name": "stdout",
     "output_type": "stream",
     "text": [
      "['osmino Wi-Fi: free WiFi', 'TOOLS', '4.2', '134203', '4.1M', '10,000,000+', 'Free', '0', 'Everyone', 'Tools', 'August 7, 2018', '6.06.14', '4.4 and up']\n",
      "\n",
      "\n"
     ]
    }
   ],
   "source": [
    "del gp_Store[10473]\n",
    "explore_Data(gp_Store, 10473, 10474) # It has been removed."
   ]
  },
  {
   "cell_type": "markdown",
   "metadata": {},
   "source": [
    "To be sure there are no more rows with missing values, let's create a function that compares the length of a row with the length of the header row. If there is a discrepancy between the two, we will know the row has an improper number of values."
   ]
  },
  {
   "cell_type": "code",
   "execution_count": 7,
   "metadata": {},
   "outputs": [
    {
     "name": "stdout",
     "output_type": "stream",
     "text": [
      "[]\n",
      "[]\n"
     ]
    }
   ],
   "source": [
    "# This function checks for rows that are missing values. \n",
    "def check_Rows(dataset):\n",
    "    incomp_Rows = []\n",
    "    length_DS = len(dataset[0]) # Obtains row length of header, which will be used to check the rest of the rows.\n",
    "    for row in dataset:\n",
    "        if len(row) != length_DS:\n",
    "            incomp_Rows.append(row)\n",
    "    return incomp_Rows\n",
    "\n",
    "app_Incomp = check_Rows(app_Store) # number of incomplete rows in appStore\n",
    "print(app_Incomp)\n",
    "gp_Incomp = check_Rows(gp_Store)   # number of incomplete rows in gpStore\n",
    "print(gp_Incomp)"
   ]
  },
  {
   "cell_type": "markdown",
   "metadata": {},
   "source": [
    "It turns out that aside from that one row we removed, there are no other rows with missing values."
   ]
  },
  {
   "cell_type": "markdown",
   "metadata": {},
   "source": [
    "## Deleting Duplicate Entries"
   ]
  },
  {
   "cell_type": "markdown",
   "metadata": {},
   "source": [
    "To demonstrate the presence of duplicate entries, we will verify such an occurrence happening with one of the apps brought up in the [discussion](https://www.kaggle.com/lava18/google-play-store-apps/discussion/136133) of the Google Play data set, namely 'Instagram'."
   ]
  },
  {
   "cell_type": "code",
   "execution_count": 8,
   "metadata": {},
   "outputs": [
    {
     "name": "stdout",
     "output_type": "stream",
     "text": [
      "['Instagram', 'SOCIAL', '4.5', '66577313', 'Varies with device', '1,000,000,000+', 'Free', '0', 'Teen', 'Social', 'July 31, 2018', 'Varies with device', 'Varies with device']\n",
      "['Instagram', 'SOCIAL', '4.5', '66577446', 'Varies with device', '1,000,000,000+', 'Free', '0', 'Teen', 'Social', 'July 31, 2018', 'Varies with device', 'Varies with device']\n",
      "['Instagram', 'SOCIAL', '4.5', '66577313', 'Varies with device', '1,000,000,000+', 'Free', '0', 'Teen', 'Social', 'July 31, 2018', 'Varies with device', 'Varies with device']\n",
      "['Instagram', 'SOCIAL', '4.5', '66509917', 'Varies with device', '1,000,000,000+', 'Free', '0', 'Teen', 'Social', 'July 31, 2018', 'Varies with device', 'Varies with device']\n"
     ]
    }
   ],
   "source": [
    "for app in gp_Store:\n",
    "    name = app[0]\n",
    "    if name == 'Instagram':\n",
    "        print(app)\n",
    "\n",
    "# Note that the fourth row has varying values. This is the review column.\n",
    "# We can use this column to prioritize the entry with the most reviews and remove the duplicates.\n",
    "# This way, we focus on the most up-to-date entry."
   ]
  },
  {
   "cell_type": "markdown",
   "metadata": {},
   "source": [
    "Note that the fourth row has varying values. This is the review column. We can use this column to prioritize the entry with the most reviews and remove the duplicates. This way, we focus on the most up-to-date entry. Let's create a function to determine the number of rows with duplicate entries. "
   ]
  },
  {
   "cell_type": "code",
   "execution_count": 9,
   "metadata": {},
   "outputs": [
    {
     "name": "stdout",
     "output_type": "stream",
     "text": [
      "Number of Duplicate GP Apps: 1181\n",
      "Number of Duplicate Apple Apps: 0\n"
     ]
    }
   ],
   "source": [
    "# This function will check for duplicates (in name) in both data sets we are analyzing.\n",
    "\n",
    "def check_Dup(dataset, ret_Dup = True):\n",
    "    unique_Apps = []\n",
    "    duplicate_Apps = []\n",
    "    for row in dataset:\n",
    "        name = row[0]\n",
    "        if name in unique_Apps:\n",
    "            duplicate_Apps.append(name)\n",
    "        else:\n",
    "            unique_Apps.append(name)\n",
    "    if ret_Dup == True:\n",
    "        return duplicate_Apps\n",
    "    else:\n",
    "        return unique_Apps\n",
    "\n",
    "gp_Dup = check_Dup(gp_Store) # number of duplicates in gp_Store\n",
    "app_Dup = check_Dup(app_Store) # number of duplicates in app_Store\n",
    "print('Number of Duplicate GP Apps: ' + str(len(gp_Dup)))\n",
    "print('Number of Duplicate Apple Apps: ' + str(len(app_Dup)))"
   ]
  },
  {
   "cell_type": "markdown",
   "metadata": {},
   "source": [
    "There are 1181 duplicate entries in the Google Play dataset, while there are zero in the App Store dataset."
   ]
  },
  {
   "cell_type": "code",
   "execution_count": 10,
   "metadata": {},
   "outputs": [
    {
     "name": "stdout",
     "output_type": "stream",
     "text": [
      "Without duplicates, the Google Play dataset should have 9659 rows.\n"
     ]
    }
   ],
   "source": [
    "print('Without duplicates, the Google Play dataset should have ' + str(len(gp_Store[1:]) - 1181) + ' rows.')"
   ]
  },
  {
   "cell_type": "code",
   "execution_count": 11,
   "metadata": {},
   "outputs": [
    {
     "name": "stdout",
     "output_type": "stream",
     "text": [
      "9659\n",
      "9659\n"
     ]
    }
   ],
   "source": [
    "unique_GP = {} # Will have no duplicates.\n",
    "for row in gp_Store[1:]:\n",
    "    review_Num = float(row[3]) # reviewNum will be the number of reviews an app has.\n",
    "    name = row[0]\n",
    "    if name in unique_GP:\n",
    "        dict_Var = unique_GP[name] # Obtains the row equivalent in the dictionary for comparison.\n",
    "        if review_Num > float(dict_Var): \n",
    "            unique_GP[name] = review_Num # Updates uniqueGP to have the entry with the highest number of reviews.\n",
    "    else:\n",
    "        unique_GP[name] = review_Num\n",
    "        \n",
    "print(len(unique_GP))\n",
    "\n",
    "# Time to clean the Google Play dataset for our purposes. \n",
    "\n",
    "clean_GP = []\n",
    "dup_GP = []\n",
    "\n",
    "for row in gp_Store[1:]:\n",
    "    name = row[0]\n",
    "    num_Rev = float(row[3])\n",
    "    if num_Rev == unique_GP[name] and name not in dup_GP:\n",
    "        clean_GP.append(row)\n",
    "        dup_GP.append(name)\n",
    "print(len(clean_GP))"
   ]
  },
  {
   "cell_type": "markdown",
   "metadata": {},
   "source": [
    "We successfully removed the duplicate rows in the Google Play dataset. Now let's check for non-English apps. Our company uses English for the apps we develop, thus we don't need apps not designed for an English-speaking audience. "
   ]
  },
  {
   "cell_type": "code",
   "execution_count": 12,
   "metadata": {},
   "outputs": [
    {
     "name": "stdout",
     "output_type": "stream",
     "text": [
      "The length of the newly cleaned GP dataset is: 9596 compared to our beginning 10841.\n",
      "The length of the newly cleaned App Store dataset is: 6155 compared to our beginning 7198.\n"
     ]
    }
   ],
   "source": [
    "# Checking for non-English characters in the names of the apps.\n",
    "\n",
    "def non_Eng(string): # If the application has more than 3 non-English characters (including emojis), this will detect it.\n",
    "    flags = 0\n",
    "    for char in string:\n",
    "        if ord(char) > 127:\n",
    "            flags += 1\n",
    "            if flags == 3:\n",
    "                return True\n",
    "    return False\n",
    "        # This way, we will not remove any apps that have a few outlier characters like ™...\n",
    "        # but remove most non-English apps such as 爱奇艺PPS -《欢乐颂2》电视剧热播 from our data set.\n",
    "    \n",
    "cleaner_GP = []\n",
    "cleaner_App = []\n",
    "\n",
    "for row in clean_GP[1:]:\n",
    "    name = row[0]\n",
    "    if non_Eng(name) == False:\n",
    "        cleaner_GP.append(row)\n",
    "        \n",
    "for row in app_Store[1:]:\n",
    "    name = row[1]\n",
    "    if non_Eng(name) == False:\n",
    "        cleaner_App.append(row)\n",
    "print('The length of the newly cleaned GP dataset is: ' + str(len(cleaner_GP)) + ' compared to our beginning ' + str(len(gp_Store)) + '.')\n",
    "print('The length of the newly cleaned App Store dataset is: ' + str(len(cleaner_App)) + ' compared to our beginning ' + str(len(app_Store)) + '.')"
   ]
  },
  {
   "cell_type": "markdown",
   "metadata": {},
   "source": [
    "## Most Popular Apps in the App Store and Google Play Store\n",
    "\n",
    "Now that the data is all clean, it is time to figure out what applications are the most popular among the App Store and Google Play users to determine the types of applications that will best generate revenue for developers. We'll start by finding the most common genres."
   ]
  },
  {
   "cell_type": "code",
   "execution_count": 13,
   "metadata": {},
   "outputs": [
    {
     "name": "stdout",
     "output_type": "stream",
     "text": [
      "Games : 3380\n",
      "Entertainment : 446\n",
      "Education : 409\n",
      "Photo & Video : 341\n",
      "Utilities : 211\n",
      "Productivity : 168\n",
      "Health & Fitness : 164\n",
      "Music : 137\n",
      "Social Networking : 126\n",
      "Sports : 104\n",
      "Lifestyle : 98\n",
      "Shopping : 84\n",
      "Weather : 69\n",
      "Travel : 59\n",
      "News : 56\n",
      "Business : 53\n",
      "Book : 53\n",
      "Reference : 51\n",
      "Finance : 48\n",
      "Food & Drink : 44\n",
      "Navigation : 28\n",
      "Medical : 21\n",
      "Catalogs : 5\n",
      "\n",
      "\n",
      "Tools : 825\n",
      "Entertainment : 557\n",
      "Education : 503\n",
      "Business : 419\n",
      "Medical : 395\n",
      "Personalization : 375\n",
      "Productivity : 373\n",
      "Lifestyle : 361\n",
      "Finance : 345\n",
      "Sports : 330\n",
      "Communication : 313\n",
      "Action : 298\n",
      "Health & Fitness : 288\n",
      "Photography : 280\n",
      "News & Magazines : 249\n",
      "Social : 239\n",
      "Travel & Local : 218\n",
      "Books & Reference : 217\n",
      "Shopping : 201\n",
      "Simulation : 190\n",
      "Arcade : 183\n",
      "Dating : 170\n",
      "Casual : 165\n",
      "Video Players & Editors : 161\n",
      "Maps & Navigation : 128\n",
      "Puzzle : 119\n",
      "Food & Drink : 112\n",
      "Role Playing : 104\n",
      "Strategy : 94\n",
      "Racing : 91\n",
      "Libraries & Demo : 84\n",
      "Auto & Vehicles : 84\n",
      "Weather : 78\n",
      "House & Home : 71\n",
      "Adventure : 71\n",
      "Events : 64\n",
      "Art & Design : 55\n",
      "Comics : 53\n",
      "Beauty : 53\n",
      "Card : 47\n",
      "Parenting : 46\n",
      "Board : 42\n",
      "Educational;Education : 38\n",
      "Casino : 38\n",
      "Trivia : 37\n",
      "Educational : 37\n",
      "Education;Education : 35\n",
      "Casual;Pretend Play : 25\n",
      "Word : 23\n",
      "Music : 19\n",
      "Puzzle;Brain Games : 17\n",
      "Education;Pretend Play : 17\n",
      "Racing;Action & Adventure : 16\n",
      "Entertainment;Music & Video : 15\n",
      "Board;Brain Games : 14\n",
      "Arcade;Action & Adventure : 14\n",
      "Educational;Pretend Play : 13\n",
      "Casual;Action & Adventure : 13\n",
      "Casual;Brain Games : 12\n",
      "Action;Action & Adventure : 12\n",
      "Simulation;Action & Adventure : 7\n",
      "Parenting;Education : 7\n",
      "Entertainment;Brain Games : 7\n",
      "Parenting;Music & Video : 6\n",
      "Educational;Brain Games : 6\n",
      "Education;Creativity : 6\n",
      "Casual;Creativity : 6\n",
      "Art & Design;Creativity : 6\n",
      "Educational;Creativity : 5\n",
      "Adventure;Action & Adventure : 5\n",
      "Sports;Action & Adventure : 4\n",
      "Role Playing;Pretend Play : 4\n",
      "Role Playing;Action & Adventure : 4\n",
      "Education;Brain Games : 4\n",
      "Education;Action & Adventure : 4\n",
      "Simulation;Pretend Play : 3\n",
      "Simulation;Education : 3\n",
      "Puzzle;Action & Adventure : 3\n",
      "Music;Music & Video : 3\n",
      "Entertainment;Creativity : 3\n",
      "Entertainment;Action & Adventure : 3\n",
      "Educational;Action & Adventure : 3\n",
      "Education;Music & Video : 3\n",
      "Casual;Education : 3\n",
      "Board;Action & Adventure : 3\n",
      "Video Players & Editors;Music & Video : 2\n",
      "Strategy;Action & Adventure : 2\n",
      "Puzzle;Creativity : 2\n",
      "Entertainment;Pretend Play : 2\n",
      "Card;Action & Adventure : 2\n",
      "Books & Reference;Education : 2\n",
      "Video Players & Editors;Creativity : 1\n",
      "Trivia;Education : 1\n",
      "Travel & Local;Action & Adventure : 1\n",
      "Tools;Education : 1\n",
      "Strategy;Education : 1\n",
      "Strategy;Creativity : 1\n",
      "Role Playing;Education : 1\n",
      "Role Playing;Brain Games : 1\n",
      "Racing;Pretend Play : 1\n",
      "Puzzle;Education : 1\n",
      "Parenting;Brain Games : 1\n",
      "Music & Audio;Music & Video : 1\n",
      "Lifestyle;Pretend Play : 1\n",
      "Lifestyle;Education : 1\n",
      "Health & Fitness;Education : 1\n",
      "Health & Fitness;Action & Adventure : 1\n",
      "Entertainment;Education : 1\n",
      "Communication;Creativity : 1\n",
      "Comics;Creativity : 1\n",
      "Casual;Music & Video : 1\n",
      "Books & Reference;Creativity : 1\n",
      "Board;Pretend Play : 1\n",
      "Art & Design;Pretend Play : 1\n",
      "Art & Design;Action & Adventure : 1\n",
      "Arcade;Pretend Play : 1\n",
      "Adventure;Education : 1\n",
      "Adventure;Brain Games : 1\n",
      "\n",
      "\n",
      "FAMILY : 1858\n",
      "GAME : 940\n",
      "TOOLS : 826\n",
      "BUSINESS : 419\n",
      "MEDICAL : 395\n",
      "PERSONALIZATION : 375\n",
      "PRODUCTIVITY : 373\n",
      "LIFESTYLE : 362\n",
      "FINANCE : 345\n",
      "SPORTS : 324\n",
      "COMMUNICATION : 313\n",
      "HEALTH_AND_FITNESS : 288\n",
      "PHOTOGRAPHY : 280\n",
      "NEWS_AND_MAGAZINES : 249\n",
      "SOCIAL : 239\n",
      "TRAVEL_AND_LOCAL : 219\n",
      "BOOKS_AND_REFERENCE : 217\n",
      "SHOPPING : 201\n",
      "DATING : 170\n",
      "VIDEO_PLAYERS : 163\n",
      "MAPS_AND_NAVIGATION : 128\n",
      "FOOD_AND_DRINK : 112\n",
      "EDUCATION : 106\n",
      "ENTERTAINMENT : 87\n",
      "LIBRARIES_AND_DEMO : 84\n",
      "AUTO_AND_VEHICLES : 84\n",
      "WEATHER : 78\n",
      "HOUSE_AND_HOME : 71\n",
      "EVENTS : 64\n",
      "PARENTING : 60\n",
      "ART_AND_DESIGN : 59\n",
      "COMICS : 54\n",
      "BEAUTY : 53\n"
     ]
    }
   ],
   "source": [
    "def freq_Table(dataset, index): # Creates a frequency table of any column we want.\n",
    "    freq_T = {}\n",
    "    for row in dataset:\n",
    "        item = row[index]\n",
    "        if item in freq_T:\n",
    "            freq_T[item] += 1\n",
    "        else:\n",
    "            freq_T[item] = 1\n",
    "    return freq_T\n",
    "\n",
    "def display_Table(dataset, index): # Sorts the dictionary by descending order.\n",
    "    table = freq_Table(dataset, index)\n",
    "    table_Display = []\n",
    "    for key in table:\n",
    "        key_Val_As_Tuple = (table[key], key)\n",
    "        table_Display.append(key_Val_As_Tuple)\n",
    "\n",
    "    table_Sorted = sorted(table_Display, reverse = True)\n",
    "    for entry in table_Sorted:\n",
    "        print(entry[1], ':', entry[0])\n",
    "        \n",
    "display_Table(cleaner_App, 11) # prime_genre column\n",
    "print('\\n')\n",
    "display_Table(cleaner_GP, 9) # Genres column\n",
    "print('\\n')\n",
    "display_Table(cleaner_GP, 1) # Category column"
   ]
  },
  {
   "cell_type": "markdown",
   "metadata": {},
   "source": [
    "For the `prime_genre` column of the cleaned App Store dataset, the most common genre is `Games` (3380 apps), with `Entertainment` (446) and `Education` (409) being the runner-ups. The mass presence of games may be due to several factors: the appeal of games to people of all ages, the ease in ability to make a unique product of a game compared to other genres, and the number of genres within games themselves. Overall, it seems the App Store is filled with apps designed for fun. However, this is not enough to make a recommendation to developers.\n",
    "\n",
    "In the `Genres` column of the Google Play data set, `Tools` appears to be the most common genre (825). It is important to note that this column lacks the games genre we see in the previous column analyzed. Instead, the game genre is divided into its subcategories, such as action, arcade, and casual. However, summed together, the number of games adds up to 940, and while it surpasses tools in presence, family is by far the most common. Many applications from every category are listed under the family genre. Altogether, the Google Play Store appears to be filled with a mix of practical and entertaining applications.\n",
    "\n",
    "To make a valid recommendation, more needs to be explored. Average ratings per genre, average number of installations per genre, and the like are good places to start.\n",
    "\n",
    "### Most Popular iOS Apps by Genre"
   ]
  },
  {
   "cell_type": "code",
   "execution_count": 14,
   "metadata": {},
   "outputs": [
    {
     "name": "stdout",
     "output_type": "stream",
     "text": [
      "[('Catalogs', 4.2), ('Games', 4.06), ('Productivity', 4.03), ('Music', 3.98), ('Reference', 3.98), ('Shopping', 3.98), ('Business', 3.98), ('Health & Fitness', 3.87), ('Book', 3.87), ('Photo & Video', 3.85), ('Weather', 3.7), ('Navigation', 3.66), ('Food & Drink', 3.65), ('Education', 3.59), ('Travel', 3.57), ('Social Networking', 3.51), ('Entertainment', 3.5), ('Finance', 3.47), ('Medical', 3.45), ('Lifestyle', 3.41), ('Utilities', 3.39), ('News', 3.36), ('Sports', 3.09)]\n"
     ]
    }
   ],
   "source": [
    "prime_Genre_App = freq_Table(cleaner_App, 11)\n",
    "\n",
    "pg_App_List = []\n",
    "\n",
    "for genre in prime_Genre_App:\n",
    "    total = 0    # sum of all ratings\n",
    "    len_Genre = 0 # number of apps in genre\n",
    "    for row in cleaner_App:\n",
    "        genre_App = row[11]\n",
    "        if genre_App == genre:\n",
    "            rating = row[7]\n",
    "            total += float(rating)\n",
    "            len_Genre += 1\n",
    "    avg_Rat = round(total / len_Genre, 2)\n",
    "    tuple_Append = (genre, avg_Rat)\n",
    "    pg_App_List.append(tuple_Append)\n",
    "\n",
    "pg_App_List = sorted(pg_App_List, key = lambda ratings: ratings[1], reverse = True)\n",
    "print(pg_App_List)"
   ]
  },
  {
   "cell_type": "markdown",
   "metadata": {},
   "source": [
    "Assuming a reasonable threshold is a rating above 3.8, that means catalogs, games, productivity, music, reference, shopping, business, health & fitness, book, and photo & video apps would be recommended. There is still not enough information however. This data is not taking into account the number of installs, which would more hone in what to recommend.\n",
    "\n",
    "While we do not have the information on how many people downloaded each app for the App Store dataset, we can substitute the total number of ratings instead."
   ]
  },
  {
   "cell_type": "code",
   "execution_count": 15,
   "metadata": {},
   "outputs": [
    {
     "name": "stdout",
     "output_type": "stream",
     "text": [
      "[('Social Networking', 60253.85), ('Music', 29047.11), ('Reference', 28096.22), ('Shopping', 26938.96), ('Finance', 23840.06), ('Weather', 23145.25), ('Food & Drink', 19934.39), ('Navigation', 19370.82), ('Travel', 19351.44), ('News', 17283.54), ('Games', 15641.67), ('Sports', 15350.91), ('Photo & Video', 14688.72), ('Health & Fitness', 10868.02), ('Book', 10750.11), ('Lifestyle', 9021.5), ('Entertainment', 8920.81), ('Productivity', 8508.09), ('Utilities', 8002.3), ('Business', 5149.32), ('Catalogs', 3465.0), ('Education', 2478.21), ('Medical', 648.95)]\n"
     ]
    }
   ],
   "source": [
    "tot_Rating_List = []\n",
    "\n",
    "for genre in prime_Genre_App:\n",
    "    total = 0 # sum of all ratings\n",
    "    len_Genre = 0 # number of apps in genre\n",
    "    for row in cleaner_App:\n",
    "        genre_App = row[11]\n",
    "        if genre_App == genre:\n",
    "            tot_Rating = row[5]\n",
    "            total += float(tot_Rating)\n",
    "            len_Genre += 1\n",
    "    avg_Rat = round(total / len_Genre, 2)\n",
    "    tuple_Append = (genre, avg_Rat)\n",
    "    tot_Rating_List.append(tuple_Append)\n",
    "    \n",
    "tot_Rating_List = sorted(tot_Rating_List, key = lambda num_Rat: num_Rat[1], reverse = True)\n",
    "print(tot_Rating_List)"
   ]
  },
  {
   "cell_type": "markdown",
   "metadata": {},
   "source": [
    "It appears that the social networking genre is the genre with the most installed applications. Despite the 3380 games considered in the dataset, the 126 social networking apps have garnered more ratings. With giants such as Snapchat and Facebook, this may come as no surprise. Regardless of the apps within the social networking genre having an average rating of 3.51, it may be prudent to make an exception to the 3.8 rating threshold as the sheer number of ratings is worth noting.\n",
    "\n",
    "The music genre is next in number, and with an average rating of 3.98, the apps within the music genre will definitely be recommended. The same will occur with apps within the reference genre (average rating of 3.98). Shopping (average rating of 3.98), food & drink (average rating of 3.65), and games (average rating of 4.06) will also be recommended.\n",
    "\n",
    "Now let's turn our attention to Google Play apps.\n",
    "\n",
    "### Most Popular Google Play Apps by Genre\n",
    "\n",
    "We conveniently have the number of installs for each app, but the numbers are not precise enough--most values are open-ended (50+, 100+, 500+, etc.):"
   ]
  },
  {
   "cell_type": "code",
   "execution_count": 16,
   "metadata": {},
   "outputs": [
    {
     "data": {
      "text/plain": [
       "{'5,000,000+': 604,\n",
       " '50,000,000+': 202,\n",
       " '100,000+': 1103,\n",
       " '50,000+': 462,\n",
       " '1,000,000+': 1414,\n",
       " '10,000+': 1018,\n",
       " '10,000,000+': 937,\n",
       " '5,000+': 462,\n",
       " '500,000+': 503,\n",
       " '1,000,000,000+': 20,\n",
       " '100,000,000+': 189,\n",
       " '1,000+': 879,\n",
       " '500,000,000+': 24,\n",
       " '50+': 204,\n",
       " '100+': 704,\n",
       " '500+': 326,\n",
       " '10+': 383,\n",
       " '1+': 66,\n",
       " '5+': 82,\n",
       " '0+': 13,\n",
       " '0': 1}"
      ]
     },
     "execution_count": 16,
     "metadata": {},
     "output_type": "execute_result"
    }
   ],
   "source": [
    "freq_Table(cleaner_GP, 5) # Installs column"
   ]
  },
  {
   "cell_type": "markdown",
   "metadata": {},
   "source": [
    "The issue with this is we don't know whether an app with 50,000+ installs has 99,999, 87,654, or 65,432 installs. However, we don't need the data to be this precise; we just need an idea of how popular each app genre is. Therefore, we will assume that an app with 5,000+ installs has 5,000 installs, an app with 100,000,000+ installs has 100,000,000 installs, and so on. We'll need to convert the values to `float`, removing the commas and plus characters in the process (done below in the loop)."
   ]
  },
  {
   "cell_type": "code",
   "execution_count": 17,
   "metadata": {
    "scrolled": true
   },
   "outputs": [
    {
     "name": "stdout",
     "output_type": "stream",
     "text": [
      "[('COMMUNICATION', 35266026.33), ('VIDEO_PLAYERS', 24121489.08), ('SOCIAL', 22961790.38), ('PHOTOGRAPHY', 16636241.27), ('PRODUCTIVITY', 15530942.01), ('GAME', 14210387.68), ('TRAVEL_AND_LOCAL', 13218662.77), ('ENTERTAINMENT', 11375402.3), ('TOOLS', 9809631.86), ('NEWS_AND_MAGAZINES', 9510848.43), ('BOOKS_AND_REFERENCE', 7676991.13), ('SHOPPING', 6966908.88), ('WEATHER', 4628211.79), ('PERSONALIZATION', 4086652.49), ('HEALTH_AND_FITNESS', 3972300.39), ('MAPS_AND_NAVIGATION', 3892045.94), ('SPORTS', 3384026.23), ('FAMILY', 3345018.52), ('ART_AND_DESIGN', 1919103.39), ('FOOD_AND_DRINK', 1891060.28), ('EDUCATION', 1782566.04), ('BUSINESS', 1663758.63), ('LIFESTYLE', 1377507.01), ('HOUSE_AND_HOME', 1360598.04), ('FINANCE', 1319851.4), ('COMICS', 832613.89), ('DATING', 828971.22), ('AUTO_AND_VEHICLES', 632501.32), ('LIBRARIES_AND_DEMO', 630903.69), ('PARENTING', 525351.83), ('BEAUTY', 513151.89), ('EVENTS', 249580.64), ('MEDICAL', 96944.5)]\n"
     ]
    }
   ],
   "source": [
    "categ_GP = freq_Table(cleaner_GP, 1)\n",
    "categ_GP_List = []\n",
    "\n",
    "for category in categ_GP:\n",
    "    total = 0\n",
    "    len_Category = 0\n",
    "    for row in cleaner_GP:\n",
    "        category_App = row[1]\n",
    "        if category_App == category:\n",
    "            num_Inst = row[5]\n",
    "            num_Inst = num_Inst.replace('+', '') # Remove the plus characters\n",
    "            num_Inst = num_Inst.replace(',', '') # Remove the commas\n",
    "            total += float(num_Inst)\n",
    "            len_Category += 1\n",
    "    avg_Inst = round(total / len_Category, 2) \n",
    "    tuple_Append = (category, avg_Inst) # A tuple of the category and the average number of installs\n",
    "    categ_GP_List.append(tuple_Append)\n",
    "    \n",
    "categ_GP_List = sorted(categ_GP_List, key = lambda inst: inst[1], reverse = True) \n",
    "print(categ_GP_List)"
   ]
  },
  {
   "cell_type": "markdown",
   "metadata": {},
   "source": [
    "It appears that communication apps have the most installs on average (35,266,026). However, apps like WhatsApp, Facebook Messenger, and Skype heavily skew this number:"
   ]
  },
  {
   "cell_type": "code",
   "execution_count": 18,
   "metadata": {},
   "outputs": [
    {
     "name": "stdout",
     "output_type": "stream",
     "text": [
      "WhatsApp Messenger : 1,000,000,000+\n",
      "imo beta free calls and text : 100,000,000+\n",
      "Android Messages : 100,000,000+\n",
      "Google Duo - High Quality Video Calls : 500,000,000+\n",
      "Messenger – Text and Video Chat for Free : 1,000,000,000+\n",
      "imo free video calls and chat : 500,000,000+\n",
      "Skype - free IM & video calls : 1,000,000,000+\n",
      "Who : 100,000,000+\n",
      "GO SMS Pro - Messenger, Free Themes, Emoji : 100,000,000+\n",
      "LINE: Free Calls & Messages : 500,000,000+\n",
      "Google Chrome: Fast & Secure : 1,000,000,000+\n",
      "Firefox Browser fast & private : 100,000,000+\n",
      "UC Browser - Fast Download Private & Secure : 500,000,000+\n",
      "Gmail : 1,000,000,000+\n",
      "Hangouts : 1,000,000,000+\n",
      "Messenger Lite: Free Calls & Messages : 100,000,000+\n",
      "Kik : 100,000,000+\n",
      "KakaoTalk: Free Calls & Text : 100,000,000+\n",
      "Opera Mini - fast web browser : 100,000,000+\n",
      "Opera Browser: Fast and Secure : 100,000,000+\n",
      "Telegram : 100,000,000+\n",
      "Truecaller: Caller ID, SMS spam blocking & Dialer : 100,000,000+\n",
      "UC Browser Mini -Tiny Fast Private & Secure : 100,000,000+\n",
      "Viber Messenger : 500,000,000+\n",
      "WeChat : 100,000,000+\n",
      "Yahoo Mail – Stay Organized : 100,000,000+\n",
      "BBM - Free Calls & Messages : 100,000,000+\n"
     ]
    }
   ],
   "source": [
    "for app in cleaner_GP:\n",
    "    if app[1] == 'COMMUNICATION' and (app[5] == '1,000,000,000+'\n",
    "                                      or app[5] == '500,000,000+'\n",
    "                                      or app[5] == '100,000,000+'):\n",
    "        print(app[0], ':', app[5])"
   ]
  },
  {
   "cell_type": "markdown",
   "metadata": {},
   "source": [
    "We see the same thing happening in the video players genre with giants like YouTube, Google Play Movies & TV, and MX Player:"
   ]
  },
  {
   "cell_type": "code",
   "execution_count": 19,
   "metadata": {},
   "outputs": [
    {
     "name": "stdout",
     "output_type": "stream",
     "text": [
      "YouTube : 1,000,000,000+\n",
      "Motorola Gallery : 100,000,000+\n",
      "VLC for Android : 100,000,000+\n",
      "Google Play Movies & TV : 1,000,000,000+\n",
      "MX Player : 500,000,000+\n",
      "Dubsmash : 100,000,000+\n",
      "VivaVideo - Video Editor & Photo Movie : 100,000,000+\n",
      "VideoShow-Video Editor, Video Maker, Beauty Camera : 100,000,000+\n",
      "Motorola FM Radio : 100,000,000+\n"
     ]
    }
   ],
   "source": [
    "for app in cleaner_GP:\n",
    "    if app[1] == 'VIDEO_PLAYERS' and (app[5] == '1,000,000,000+'\n",
    "                                      or app[5] == '500,000,000+'\n",
    "                                      or app[5] == '100,000,000+'):\n",
    "        print(app[0], ':', app[5])"
   ]
  },
  {
   "cell_type": "markdown",
   "metadata": {},
   "source": [
    "It also occurs in the social genre with apps like Facebook, Instagram, and Google+:"
   ]
  },
  {
   "cell_type": "code",
   "execution_count": 20,
   "metadata": {},
   "outputs": [
    {
     "name": "stdout",
     "output_type": "stream",
     "text": [
      "Facebook : 1,000,000,000+\n",
      "Facebook Lite : 500,000,000+\n",
      "Tumblr : 100,000,000+\n",
      "Pinterest : 100,000,000+\n",
      "Google+ : 1,000,000,000+\n",
      "Badoo - Free Chat & Dating App : 100,000,000+\n",
      "Tango - Live Video Broadcast : 100,000,000+\n",
      "Instagram : 1,000,000,000+\n",
      "Snapchat : 500,000,000+\n",
      "LinkedIn : 100,000,000+\n",
      "Tik Tok - including musical.ly : 100,000,000+\n",
      "BIGO LIVE - Live Stream : 100,000,000+\n",
      "VK : 100,000,000+\n"
     ]
    }
   ],
   "source": [
    "for app in cleaner_GP:\n",
    "    if app[1] == 'SOCIAL' and (app[5] == '1,000,000,000+'\n",
    "                                      or app[5] == '500,000,000+'\n",
    "                                      or app[5] == '100,000,000+'):\n",
    "        print(app[0], ':', app[5])"
   ]
  },
  {
   "cell_type": "markdown",
   "metadata": {},
   "source": [
    "Let's create a function to check which of the top 10 genres (following communication, video players, and social) has 5 or fewer \"giants\" (defined here by having more than 100,000,000+ installs):"
   ]
  },
  {
   "cell_type": "code",
   "execution_count": 21,
   "metadata": {},
   "outputs": [
    {
     "name": "stdout",
     "output_type": "stream",
     "text": [
      "['TRAVEL_AND_LOCAL', 'ENTERTAINMENT', 'NEWS_AND_MAGAZINES', 'BOOKS_AND_REFERENCE', 'SHOPPING', 'WEATHER']\n"
     ]
    }
   ],
   "source": [
    "def num_Check(dataset, genre_List):\n",
    "    potential_Genres = []\n",
    "    for genre in genre_List:\n",
    "        counter = 0 # number of \"giants\"\n",
    "        for app in dataset:\n",
    "            if app[1] == genre and (app[5] == '1,000,000,000+'\n",
    "                                              or app[5] == '500,000,000+'\n",
    "                                              or app[5] == '100,000,000+'):\n",
    "                counter += 1\n",
    "            if counter > 5:\n",
    "                break\n",
    "        if counter <= 5:\n",
    "            potential_Genres.append(genre)\n",
    "    return potential_Genres\n",
    "list_Genre = ['PHOTOGRAPHY', 'PRODUCTIVITY', 'GAME', 'TRAVEL_AND_LOCAL', \n",
    "             'ENTERTAINMENT', 'TOOLS', 'NEWS_AND_MAGAZINES', 'BOOKS_AND_REFERENCE',\n",
    "            'SHOPPING', 'WEATHER']\n",
    "\n",
    "print(num_Check(cleaner_GP, list_Genre))"
   ]
  },
  {
   "cell_type": "markdown",
   "metadata": {},
   "source": [
    "The following genres share potential within both the App Store and Google Play store: books and reference, shopping, weather, travel, and news.\n",
    "\n",
    "Seeing as the travel genre has the most app installs amongst these genres (about 13,218,663), let's take a look at some apps in the travel genre:"
   ]
  },
  {
   "cell_type": "code",
   "execution_count": 22,
   "metadata": {},
   "outputs": [
    {
     "name": "stdout",
     "output_type": "stream",
     "text": [
      "trivago: Hotels & Travel : 50,000,000+\n",
      "Hopper - Watch & Book Flights : 5,000,000+\n",
      "TripIt: Travel Organizer : 1,000,000+\n",
      "Trip by Skyscanner - City & Travel Guide : 500,000+\n",
      "CityMaps2Go Plan Trips Travel Guide Offline Maps : 1,000,000+\n",
      "KAYAK Flights, Hotels & Cars : 10,000,000+\n",
      "World Travel Guide by Triposo : 500,000+\n",
      "Booking.com Travel Deals : 100,000,000+\n",
      "Hostelworld: Hostels & Cheap Hotels Travel App : 1,000,000+\n",
      "Google Trips - Travel Planner : 5,000,000+\n",
      "GPS Map Free : 5,000,000+\n",
      "GasBuddy: Find Cheap Gas : 10,000,000+\n",
      "Southwest Airlines : 5,000,000+\n",
      "AT&T Navigator: Maps, Traffic : 10,000,000+\n",
      "VZ Navigator : 50,000,000+\n",
      "KakaoMap - Map / Navigation : 10,000,000+\n",
      "AirAsia : 10,000,000+\n",
      "Expedia Hotels, Flights & Car Rental Travel Deals : 10,000,000+\n",
      "Goibibo - Flight Hotel Bus Car IRCTC Booking App : 10,000,000+\n",
      "Allegiant : 1,000,000+\n",
      "Amtrak : 1,000,000+\n",
      "JAL (Domestic and international flights) : 1,000,000+\n",
      "Flight & Hotel Booking App - ixigo : 5,000,000+\n",
      "VZ Navigator for Tablets : 500,000+\n",
      "TripAdvisor Hotels Flights Restaurants Attractions : 100,000,000+\n",
      "HSL - Tickets, route planner and information : 100,000+\n",
      "Wisepilot for XPERIA™ : 5,000,000+\n",
      "VZ Navigator for Galaxy S4 : 5,000,000+\n",
      "MAIN : 1,000,000+\n",
      "Yoriza Pension - travel, lodging, pension, camping, caravan, pool villas accommodation discount : 1,000,000+\n",
      "Foursquare Swarm: Check In : 10,000,000+\n",
      "PagesJaunes - local search : 10,000,000+\n",
      "Flightradar24 Flight Tracker : 10,000,000+\n",
      "Yatra - Flights, Hotels, Bus, Trains & Cabs : 10,000,000+\n",
      "SNCF : 5,000,000+\n",
      "Fly Delta : 5,000,000+\n",
      "Skyscanner : 10,000,000+\n",
      "Despegar.com Hotels and Flights : 10,000,000+\n",
      "Navigation Plus : 1,000,000+\n",
      "2GIS: directory & navigator : 50,000,000+\n",
      "Poynt : 5,000,000+\n",
      "Gaode Map : 1,000,000+\n",
      "Priceline Hotel Deals, Rental Cars & Flights : 5,000,000+\n",
      "TravelPirates : 1,000,000+\n",
      "Free Radar Detector : 1,000,000+\n",
      "American Airlines : 5,000,000+\n",
      "Where to travel - ticket. hotel. train ticket. car ticket. travel. tickets : 1,000,000+\n",
      "United Airlines : 5,000,000+\n",
      "NTES : 10,000,000+\n",
      "Where is my Train : Indian Railway & PNR Status : 10,000,000+\n",
      "MakeMyTrip-Flight Hotel Bus Cab IRCTC Rail Booking : 10,000,000+\n",
      "Restaurant Finder : 1,000,000+\n",
      "Zagat : 100,000+\n",
      "Gormey: Find Best Restaurants : 1,000+\n",
      "Find Dining Restaurant Finder : 100,000+\n",
      "Urbanspoon Restaurant Reviews : 5,000,000+\n",
      "Yelp: Food, Shopping, Services Nearby : 10,000,000+\n",
      "Qatar Airways : 1,000,000+\n",
      "Hipmunk Hotels & Flights : 1,000,000+\n",
      "Skiplagged — Exclusive Flights & Hotels : 1,000,000+\n",
      "CWT To Go : 100,000+\n",
      "British Airways : 1,000,000+\n",
      "Cheap Flights & Hotels momondo : 5,000,000+\n",
      "CheapTickets – Hotels, Flights & Travel Deals : 1,000,000+\n",
      "JetBlue : 1,000,000+\n",
      "Flights : 1,000,000+\n",
      "Cheapflights – Flight Search : 5,000,000+\n",
      "KLM - Royal Dutch Airlines : 1,000,000+\n",
      "Orbitz - Hotels, Flights & Package Deals : 1,000,000+\n",
      "Lufthansa : 1,000,000+\n",
      "easyJet: Travel App : 10,000,000+\n",
      "IndiGo : 5,000,000+\n",
      "LateRooms: Find Hotel Deals : 1,000,000+\n",
      "Choice Hotels : 1,000,000+\n",
      "Couchsurfing Travel App : 1,000,000+\n",
      "Hotwire Hotel & Car Rental App : 1,000,000+\n",
      "HOTEL DEALS : 100,000+\n",
      "HomeAway Vacation Rentals : 5,000,000+\n",
      "IHG®: Hotel Deals & Rewards : 1,000,000+\n",
      "SPG: Starwood Hotels & Resorts : 1,000,000+\n",
      "Hotels.com: Book Hotel Rooms & Find Vacation Deals : 10,000,000+\n",
      "HotelTonight: Book amazing deals at great hotels : 5,000,000+\n",
      "Airbnb : 10,000,000+\n",
      "Hotels Combined - Cheap deals : 5,000,000+\n",
      "Agoda – Hotel Booking Deals : 10,000,000+\n",
      "Turo - Better Than Car Rental : 1,000,000+\n",
      "Ascape VR: 360° Virtual Travel : 100,000+\n",
      "Cheap hotel deals and discounts — Hotellook : 1,000,000+\n",
      "Maps - Navigate & Explore : 1,000,000,000+\n",
      "GPS Status & Toolbox : 10,000,000+\n",
      "Airport + Flight Tracker Radar : 1,000,000+\n",
      "Scout GPS Navigation & Meet Up : 5,000,000+\n",
      "Street Panorama View : 1,000,000+\n",
      "Geo Tracker - GPS tracker : 1,000,000+\n",
      "DreamTrips : 500,000+\n",
      "Navmii GPS USA (Navfree) : 500,000+\n",
      "Sygic Truck GPS Navigation : 1,000,000+\n",
      "Google Street View : 1,000,000,000+\n",
      "Air Transat CinePlus B : 50,000+\n",
      "Maps & GPS Navigation OsmAnd+ : 100,000+\n",
      "U-Haul : 100,000+\n",
      "Octo U: Your driving companion : 50,000+\n",
      "Flexiroam X : 100,000+\n",
      "Connect.ae - Local Search UAE : 10,000+\n",
      "Toppen af Danmark : 5,000+\n",
      "Alabama Road Trips : 10,000+\n",
      "Official AL Fishing & Hunting : 50,000+\n",
      "Where Am I At? : 10,000+\n",
      "Where Am I? GPS Loc : 10,000+\n",
      "Live Camera Viewer ★ World Webcam & IP Cam Streams : 10,000,000+\n",
      "Portal AR - Step Into Scotland : 5,000+\n",
      "Casino AZ/Talking Stick Resort : 10,000+\n",
      "Explore Sedona & Northern AZ : 10,000+\n",
      "Arizona Trail : 5,000+\n",
      "Phoenix and Arizona Cameras : 10,000+\n",
      "Greater London A-Z 2016 : 1,000+\n",
      "Experience BA : 100+\n",
      "BA Status : 100+\n",
      "Avios for Android : 100,000+\n",
      "Explore British Columbia - BC Travel Guide : 500+\n",
      "BC Highways - Road Conditions : 10,000+\n",
      "Victoria, BC | Tour City : 1,000+\n",
      "British Columbia Tourist Places (Guide) : 100+\n",
      "BG Metro - Red voznje : 1,000+\n",
      "BG Guide : 100+\n",
      "trip.bg : 1,000+\n",
      "Es-Bg Offline Voice Translator : 10+\n",
      "Belo Horizonte Map offline : 1,000+\n",
      "BH Mission Playbook : 100+\n",
      "BH Rocking : 100+\n",
      "Digital Tourist BH Itinerary : 500+\n",
      "BL info : 5,000+\n",
      "BPme - Mobile Fuel Payment & BP Driver Rewards app : 10,000+\n",
      "Wherever BQ : 50+\n",
      "BU Dental GoGoldman : 100+\n",
      "BU Questrom Launch : 100+\n",
      "BU School of Public Health : 10+\n",
      "BV Aventure : 100+\n",
      "BV Rando : 100+\n",
      "Best Western To Go : 100,000+\n",
      "BW Map mobile : 10,000+\n",
      "Best Western e-Concierge Hotel : 10,000+\n",
      "24/7 BZ Reis : 100,000+\n",
      "BZ Vesper-App : 1,000+\n",
      "Restaurantführer Südbaden : 1,000+\n",
      "BZ Straußenführer : 10,000+\n",
      "California Cameras - Traffic : 10,000+\n",
      "Kiosque CD : 5+\n",
      "US 115th CD : 5+\n",
      "CE AH VLJ : 1,000+\n",
      "Ultimate Public Campgrounds (Over 37,100 in US&CA) : 5,000+\n",
      "search.ch : 500,000+\n",
      "CJ's Coffee Cafe : 500+\n",
      "Camping and Co - Camping in Europe : 1,000+\n",
      "CQ Hotels : 10,000+\n",
      "SHUTTLLS CQ - Connect Ride Go : 5+\n",
      "Navigator PRO - GPS Navigation with Offline Maps : 50,000+\n",
      "Cathay Pacific : 1,000,000+\n",
      "Map of Cyprus offline : 10,000+\n",
      "DB BAHN : 500+\n",
      "DB FahrtProfi : 1,000+\n",
      "DC Metro Transit - Free : 500,000+\n",
      "D.C. Driving/Walking Tours : 50+\n",
      "DC Trails-Hop On Hop Off Tours : 5,000+\n",
      "DC Metro Transit : 5,000+\n",
      "Can I pack that? - DG App : 10,000+\n",
      "DG Cars : 10,000+\n",
      "DK Eyewitness Audio Walks : 1,000+\n",
      "DM Transfers Dalaman Transfers : 10,000+\n",
      "US DV Lottery 2020 Apply : 10,000+\n",
      "US DV Lottery 2019 : 1,000+\n",
      "DW Maps : 10,000+\n",
      "junainfo.dy.fi : 100+\n",
      "Siyaha Dz : 10,000+\n",
      "IRIS : Customer Service - DZ Algeria : 1,000+\n",
      "DZ Fly Algérie Horaire Vols : 10,000+\n",
      "EA Plus : 1,000+\n",
      "EB Events : 10,000+\n",
      "Audiowalk EB : 10+\n",
      "EF Go Ahead Tour Companion : 1,000+\n",
      "EF Summits : 100+\n",
      "EG SIM CARD (EGSIMCARD) : 10,000+\n",
      "EG | Explore Folegandros : 0+\n",
      "The Emirates App : 1,000,000+\n",
      "Ek-yatri: Travel where you Belong : 1+\n",
      "EL AL Flights : 100,000+\n",
      "DreamStream By EL AL : 100,000+\n",
      "Monastery of El Escorial : 1,000+\n",
      "El Dorado App : 10,000+\n",
      "EO Hotels : 100+\n",
      "Fill 'er Up : 5,000+\n",
      "MAPS.ME – Offline Map and Travel Navigation : 50,000,000+\n",
      "Google Earth : 100,000,000+\n",
      "Offline Maps & Navigation : 5,000,000+\n",
      "myLPG.eu : 50,000+\n",
      "YouCamp EU : 1,000+\n",
      "Passenger rights : 50,000+\n",
      "taxi.eu : 100,000+\n",
      "Campervan.Guide Pro : 10,000+\n",
      "To-U - free EV public charging : 1,000+\n",
      "Bird - Enjoy The Ride : 500,000+\n",
      "eCooltra: scooter sharing. Share electric scooters : 100,000+\n",
      "XE Currency : 10,000,000+\n",
      "XE Currency Pro : 10,000+\n",
      "Etihad Airways : 500,000+\n",
      "EZ TAG Express : 10,000+\n",
      "Santa Fe Map and Walks : 1,000+\n",
      "Santa Fe VIP Tours : 100+\n",
      "Toyota Cruisers & Trucks Mag : 500+\n",
      "FL State Parks Guide : 100,000+\n",
      "Florida Travel Guide : 1,000+\n",
      "The Florida Trail Guide : 5,000+\n",
      "Florida Keys : 10,000+\n",
      "Florida Travel Guide - TOURIAS : 10,000+\n",
      "Florida map : 5,000+\n",
      "Florida Beach Wallpapers HD : 100+\n",
      "ORLANDO FLORIDA MAP : 1,000+\n",
      "Florida Offline Road Map : 10,000+\n",
      "Florida Map offline : 1,000+\n"
     ]
    }
   ],
   "source": [
    "for app in cleaner_GP:\n",
    "    if app[1] == 'TRAVEL_AND_LOCAL':\n",
    "        print(app[0], ':', app[5])"
   ]
  },
  {
   "cell_type": "markdown",
   "metadata": {},
   "source": [
    "The travel genre contains a variety of apps: flight and hotel assistance, navigation, restaurant location, and hotspot interests. Let's see what popular apps there are:"
   ]
  },
  {
   "cell_type": "code",
   "execution_count": 23,
   "metadata": {},
   "outputs": [
    {
     "name": "stdout",
     "output_type": "stream",
     "text": [
      "Booking.com Travel Deals : 100,000,000+\n",
      "TripAdvisor Hotels Flights Restaurants Attractions : 100,000,000+\n",
      "Maps - Navigate & Explore : 1,000,000,000+\n",
      "Google Street View : 1,000,000,000+\n",
      "Google Earth : 100,000,000+\n"
     ]
    }
   ],
   "source": [
    "for app in cleaner_GP:\n",
    "    if app[1] == 'TRAVEL_AND_LOCAL' and (app[5] == '1,000,000,000+'\n",
    "                                            or app[5] == '500,000,000+'\n",
    "                                            or app[5] == '100,000,000+'):\n",
    "        print(app[0], ':', app[5])"
   ]
  },
  {
   "cell_type": "markdown",
   "metadata": {},
   "source": [
    "Three of these apps focus on navigation, while the other two hone in on hotel and flight assistance. That leaves hotspot interest as a potential market to tap into. Let's see what less popular apps there are:"
   ]
  },
  {
   "cell_type": "code",
   "execution_count": 24,
   "metadata": {},
   "outputs": [
    {
     "name": "stdout",
     "output_type": "stream",
     "text": [
      "trivago: Hotels & Travel : 50,000,000+\n",
      "Hopper - Watch & Book Flights : 5,000,000+\n",
      "TripIt: Travel Organizer : 1,000,000+\n",
      "CityMaps2Go Plan Trips Travel Guide Offline Maps : 1,000,000+\n",
      "KAYAK Flights, Hotels & Cars : 10,000,000+\n",
      "Hostelworld: Hostels & Cheap Hotels Travel App : 1,000,000+\n",
      "Google Trips - Travel Planner : 5,000,000+\n",
      "GPS Map Free : 5,000,000+\n",
      "GasBuddy: Find Cheap Gas : 10,000,000+\n",
      "Southwest Airlines : 5,000,000+\n",
      "AT&T Navigator: Maps, Traffic : 10,000,000+\n",
      "VZ Navigator : 50,000,000+\n",
      "KakaoMap - Map / Navigation : 10,000,000+\n",
      "AirAsia : 10,000,000+\n",
      "Expedia Hotels, Flights & Car Rental Travel Deals : 10,000,000+\n",
      "Goibibo - Flight Hotel Bus Car IRCTC Booking App : 10,000,000+\n",
      "Allegiant : 1,000,000+\n",
      "Amtrak : 1,000,000+\n",
      "JAL (Domestic and international flights) : 1,000,000+\n",
      "Flight & Hotel Booking App - ixigo : 5,000,000+\n",
      "Wisepilot for XPERIA™ : 5,000,000+\n",
      "VZ Navigator for Galaxy S4 : 5,000,000+\n",
      "MAIN : 1,000,000+\n",
      "Yoriza Pension - travel, lodging, pension, camping, caravan, pool villas accommodation discount : 1,000,000+\n",
      "Foursquare Swarm: Check In : 10,000,000+\n",
      "PagesJaunes - local search : 10,000,000+\n",
      "Flightradar24 Flight Tracker : 10,000,000+\n",
      "Yatra - Flights, Hotels, Bus, Trains & Cabs : 10,000,000+\n",
      "SNCF : 5,000,000+\n",
      "Fly Delta : 5,000,000+\n",
      "Skyscanner : 10,000,000+\n",
      "Despegar.com Hotels and Flights : 10,000,000+\n",
      "Navigation Plus : 1,000,000+\n",
      "2GIS: directory & navigator : 50,000,000+\n",
      "Poynt : 5,000,000+\n",
      "Gaode Map : 1,000,000+\n",
      "Priceline Hotel Deals, Rental Cars & Flights : 5,000,000+\n",
      "TravelPirates : 1,000,000+\n",
      "Free Radar Detector : 1,000,000+\n",
      "American Airlines : 5,000,000+\n",
      "Where to travel - ticket. hotel. train ticket. car ticket. travel. tickets : 1,000,000+\n",
      "United Airlines : 5,000,000+\n",
      "NTES : 10,000,000+\n",
      "Where is my Train : Indian Railway & PNR Status : 10,000,000+\n",
      "MakeMyTrip-Flight Hotel Bus Cab IRCTC Rail Booking : 10,000,000+\n",
      "Restaurant Finder : 1,000,000+\n",
      "Urbanspoon Restaurant Reviews : 5,000,000+\n",
      "Yelp: Food, Shopping, Services Nearby : 10,000,000+\n",
      "Qatar Airways : 1,000,000+\n",
      "Hipmunk Hotels & Flights : 1,000,000+\n",
      "Skiplagged — Exclusive Flights & Hotels : 1,000,000+\n",
      "British Airways : 1,000,000+\n",
      "Cheap Flights & Hotels momondo : 5,000,000+\n",
      "CheapTickets – Hotels, Flights & Travel Deals : 1,000,000+\n",
      "JetBlue : 1,000,000+\n",
      "Flights : 1,000,000+\n",
      "Cheapflights – Flight Search : 5,000,000+\n",
      "KLM - Royal Dutch Airlines : 1,000,000+\n",
      "Orbitz - Hotels, Flights & Package Deals : 1,000,000+\n",
      "Lufthansa : 1,000,000+\n",
      "easyJet: Travel App : 10,000,000+\n",
      "IndiGo : 5,000,000+\n",
      "LateRooms: Find Hotel Deals : 1,000,000+\n",
      "Choice Hotels : 1,000,000+\n",
      "Couchsurfing Travel App : 1,000,000+\n",
      "Hotwire Hotel & Car Rental App : 1,000,000+\n",
      "HomeAway Vacation Rentals : 5,000,000+\n",
      "IHG®: Hotel Deals & Rewards : 1,000,000+\n",
      "SPG: Starwood Hotels & Resorts : 1,000,000+\n",
      "Hotels.com: Book Hotel Rooms & Find Vacation Deals : 10,000,000+\n",
      "HotelTonight: Book amazing deals at great hotels : 5,000,000+\n",
      "Airbnb : 10,000,000+\n",
      "Hotels Combined - Cheap deals : 5,000,000+\n",
      "Agoda – Hotel Booking Deals : 10,000,000+\n",
      "Turo - Better Than Car Rental : 1,000,000+\n",
      "Cheap hotel deals and discounts — Hotellook : 1,000,000+\n",
      "GPS Status & Toolbox : 10,000,000+\n",
      "Airport + Flight Tracker Radar : 1,000,000+\n",
      "Scout GPS Navigation & Meet Up : 5,000,000+\n",
      "Street Panorama View : 1,000,000+\n",
      "Geo Tracker - GPS tracker : 1,000,000+\n",
      "Sygic Truck GPS Navigation : 1,000,000+\n",
      "Live Camera Viewer ★ World Webcam & IP Cam Streams : 10,000,000+\n",
      "Cathay Pacific : 1,000,000+\n",
      "The Emirates App : 1,000,000+\n",
      "MAPS.ME – Offline Map and Travel Navigation : 50,000,000+\n",
      "Offline Maps & Navigation : 5,000,000+\n",
      "XE Currency : 10,000,000+\n"
     ]
    }
   ],
   "source": [
    "for app in cleaner_GP:\n",
    "    if app[1] == 'TRAVEL_AND_LOCAL' and (app[5] == '1,000,000+'\n",
    "                                            or app[5] == '5,000,000+'\n",
    "                                            or app[5] == '10,000,000+'\n",
    "                                            or app[5] == '50,000,000+'):\n",
    "        print(app[0], ':', app[5])"
   ]
  },
  {
   "cell_type": "markdown",
   "metadata": {},
   "source": [
    "Yelp appears to be among the few apps that focus on hotspot interest, and upon further investigation, Yelp only focuses on the goods and services aspect of hotspot interests, such as restaurants, salons, and dentists. It could be profitable to make an app that focuses more on the sightseeing part of travel, including deals on experiences like skydiving, rafting, etc. It would need a similar review feature and a forum to discuss said experiences, and it could provide recommendations of where to go based on the time of year and prices.\n",
    "\n",
    "## Conclusions\n",
    "\n",
    "In this project, we analyzed Google Play and Apple Store mobile apps with the goal of recommending an app profile that can be profitable for both markets.\n",
    "\n",
    "We concluded that expanding upon the sightseeing part of travel could have untapped potential, focusing on popular points of interest and lesser known places. It would need a similar review feature and a forum to discuss said experiences, and it could provide recommendations of where to go based on the time of year and prices."
   ]
  }
 ],
 "metadata": {
  "kernelspec": {
   "display_name": "Python 3",
   "language": "python",
   "name": "python3"
  },
  "language_info": {
   "codemirror_mode": {
    "name": "ipython",
    "version": 3
   },
   "file_extension": ".py",
   "mimetype": "text/x-python",
   "name": "python",
   "nbconvert_exporter": "python",
   "pygments_lexer": "ipython3",
   "version": "3.7.6"
  }
 },
 "nbformat": 4,
 "nbformat_minor": 4
}
