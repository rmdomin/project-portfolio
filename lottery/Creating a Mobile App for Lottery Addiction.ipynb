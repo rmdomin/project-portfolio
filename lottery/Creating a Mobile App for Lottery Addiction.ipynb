{
 "cells": [
  {
   "cell_type": "markdown",
   "metadata": {},
   "source": [
    "# Creating a Mobile App for Lottery Addiction\n",
    "\n",
    "In this project, we're going to contribute to the making of a mobile app to combat lottery addiction. For the first version of the app, a medical institute wants us to focus on the [6/49 lottery](https://en.wikipedia.org/wiki/Lotto_6/49) and build functions that provide insight on the probability of winning in various scenarios such as:\n",
    "- Winning the big prize with a single ticket.\n",
    "- Winning the big prize with 40 different tickets (or any number of tickets).\n",
    "- Having at least a certain number (e.g. 5) winning numbers on a single ticket.\n",
    "\n",
    "The institute also wants us to consider past data from the 6/49 lottery. We'll use a data set with data for 3,665 drawings, dating from 1982 to 2018. The documentation for it can be found [here](https://www.kaggle.com/datascienceai/lottery-dataset).\n",
    "\n",
    "## Creating Core Functions\n",
    "\n",
    "In the 6/49 lottery, six numbers are drawn, all ranging from 1 to 49, without replacement. Meaning, no set of numbers will have more than one of the same number within it. We'll start off by coding two functions:\n",
    "- A function that calculates factorials.\n",
    "- A function that calculates combinations."
   ]
  },
  {
   "cell_type": "code",
   "execution_count": 1,
   "metadata": {},
   "outputs": [],
   "source": [
    "# Creating our functions\n",
    "def factorial(n):\n",
    "    product = n\n",
    "    for num in range(1, n):\n",
    "        product *= num\n",
    "    return product\n",
    "\n",
    "def combinations(n, k):\n",
    "    return factorial(n) / (factorial(k) * factorial(n - k))"
   ]
  },
  {
   "cell_type": "markdown",
   "metadata": {},
   "source": [
    "These functions will help us create the next function we'll build--a function to calculate the probability of winning the big prize. Winning the big prize involves having all six numbers on a ticket match all six numbers drawn. If even one number differs from the winning set, the player with the ticket does not win.\n",
    "\n",
    "## One-ticket Probability\n",
    "\n",
    "We discussed details with the engineering team of the medical institute, and they told us several things we need to take into account:\n",
    "- Inside the app, the user inputs six different numbers from 1 to 49.\n",
    "- The six numbers will come as a Python list, which will serve as the single input to our function.\n",
    "- The engineering team wants the function to print the probability value in a user-friendly way, one that people with no probability training could understand. "
   ]
  },
  {
   "cell_type": "code",
   "execution_count": 2,
   "metadata": {},
   "outputs": [
    {
     "name": "stdout",
     "output_type": "stream",
     "text": [
      "The chance of winning the big prize with the numbers [1, 2, 3, 4, 5, 6] are 0.0000072%.\n",
      "In other words, you have a 1 in 13,983,816 chances to win.\n"
     ]
    }
   ],
   "source": [
    "# Writing the first function for our app\n",
    "def one_ticket_probability(six_num):\n",
    "    num_outcomes = combinations(49, 6) # Total number of outcomes\n",
    "    chance = 1 / num_outcomes * 100 # The user inputs just one combination\n",
    "    print('''The chances of winning the big prize with the numbers {} are {:.7f}%.\n",
    "In other words, you have a 1 in {:,} chances to win.'''.format(six_num,\n",
    "                                                               chance, int(num_outcomes)))\n",
    "\n",
    "# Testing it out\n",
    "one_ticket_probability([1, 2, 3, 4, 5, 6])"
   ]
  },
  {
   "cell_type": "markdown",
   "metadata": {},
   "source": [
    "## Exploring the Data Set \n",
    "\n",
    "We created a function that tells the user their chances of winning the big prize with a single ticket. For the first version of the app, however, users should be able to compare their ticket against the historical lottery data in Canada and determine whether they would have won by now. Let's import the data set to get familiar with what we're working with."
   ]
  },
  {
   "cell_type": "code",
   "execution_count": 3,
   "metadata": {},
   "outputs": [
    {
     "data": {
      "text/html": [
       "<div>\n",
       "<style scoped>\n",
       "    .dataframe tbody tr th:only-of-type {\n",
       "        vertical-align: middle;\n",
       "    }\n",
       "\n",
       "    .dataframe tbody tr th {\n",
       "        vertical-align: top;\n",
       "    }\n",
       "\n",
       "    .dataframe thead th {\n",
       "        text-align: right;\n",
       "    }\n",
       "</style>\n",
       "<table border=\"1\" class=\"dataframe\">\n",
       "  <thead>\n",
       "    <tr style=\"text-align: right;\">\n",
       "      <th></th>\n",
       "      <th>PRODUCT</th>\n",
       "      <th>DRAW NUMBER</th>\n",
       "      <th>SEQUENCE NUMBER</th>\n",
       "      <th>DRAW DATE</th>\n",
       "      <th>NUMBER DRAWN 1</th>\n",
       "      <th>NUMBER DRAWN 2</th>\n",
       "      <th>NUMBER DRAWN 3</th>\n",
       "      <th>NUMBER DRAWN 4</th>\n",
       "      <th>NUMBER DRAWN 5</th>\n",
       "      <th>NUMBER DRAWN 6</th>\n",
       "      <th>BONUS NUMBER</th>\n",
       "    </tr>\n",
       "  </thead>\n",
       "  <tbody>\n",
       "    <tr>\n",
       "      <th>0</th>\n",
       "      <td>649</td>\n",
       "      <td>1</td>\n",
       "      <td>0</td>\n",
       "      <td>6/12/1982</td>\n",
       "      <td>3</td>\n",
       "      <td>11</td>\n",
       "      <td>12</td>\n",
       "      <td>14</td>\n",
       "      <td>41</td>\n",
       "      <td>43</td>\n",
       "      <td>13</td>\n",
       "    </tr>\n",
       "    <tr>\n",
       "      <th>1</th>\n",
       "      <td>649</td>\n",
       "      <td>2</td>\n",
       "      <td>0</td>\n",
       "      <td>6/19/1982</td>\n",
       "      <td>8</td>\n",
       "      <td>33</td>\n",
       "      <td>36</td>\n",
       "      <td>37</td>\n",
       "      <td>39</td>\n",
       "      <td>41</td>\n",
       "      <td>9</td>\n",
       "    </tr>\n",
       "    <tr>\n",
       "      <th>2</th>\n",
       "      <td>649</td>\n",
       "      <td>3</td>\n",
       "      <td>0</td>\n",
       "      <td>6/26/1982</td>\n",
       "      <td>1</td>\n",
       "      <td>6</td>\n",
       "      <td>23</td>\n",
       "      <td>24</td>\n",
       "      <td>27</td>\n",
       "      <td>39</td>\n",
       "      <td>34</td>\n",
       "    </tr>\n",
       "  </tbody>\n",
       "</table>\n",
       "</div>"
      ],
      "text/plain": [
       "   PRODUCT  DRAW NUMBER  SEQUENCE NUMBER  DRAW DATE  NUMBER DRAWN 1  \\\n",
       "0      649            1                0  6/12/1982               3   \n",
       "1      649            2                0  6/19/1982               8   \n",
       "2      649            3                0  6/26/1982               1   \n",
       "\n",
       "   NUMBER DRAWN 2  NUMBER DRAWN 3  NUMBER DRAWN 4  NUMBER DRAWN 5  \\\n",
       "0              11              12              14              41   \n",
       "1              33              36              37              39   \n",
       "2               6              23              24              27   \n",
       "\n",
       "   NUMBER DRAWN 6  BONUS NUMBER  \n",
       "0              43            13  \n",
       "1              41             9  \n",
       "2              39            34  "
      ]
     },
     "execution_count": 3,
     "metadata": {},
     "output_type": "execute_result"
    }
   ],
   "source": [
    "# Reading in the data set\n",
    "import pandas as pd\n",
    "lottery = pd.read_csv('649.csv')\n",
    "\n",
    "# Getting an initial view\n",
    "lottery.head(3)"
   ]
  },
  {
   "cell_type": "code",
   "execution_count": 4,
   "metadata": {},
   "outputs": [
    {
     "data": {
      "text/html": [
       "<div>\n",
       "<style scoped>\n",
       "    .dataframe tbody tr th:only-of-type {\n",
       "        vertical-align: middle;\n",
       "    }\n",
       "\n",
       "    .dataframe tbody tr th {\n",
       "        vertical-align: top;\n",
       "    }\n",
       "\n",
       "    .dataframe thead th {\n",
       "        text-align: right;\n",
       "    }\n",
       "</style>\n",
       "<table border=\"1\" class=\"dataframe\">\n",
       "  <thead>\n",
       "    <tr style=\"text-align: right;\">\n",
       "      <th></th>\n",
       "      <th>PRODUCT</th>\n",
       "      <th>DRAW NUMBER</th>\n",
       "      <th>SEQUENCE NUMBER</th>\n",
       "      <th>DRAW DATE</th>\n",
       "      <th>NUMBER DRAWN 1</th>\n",
       "      <th>NUMBER DRAWN 2</th>\n",
       "      <th>NUMBER DRAWN 3</th>\n",
       "      <th>NUMBER DRAWN 4</th>\n",
       "      <th>NUMBER DRAWN 5</th>\n",
       "      <th>NUMBER DRAWN 6</th>\n",
       "      <th>BONUS NUMBER</th>\n",
       "    </tr>\n",
       "  </thead>\n",
       "  <tbody>\n",
       "    <tr>\n",
       "      <th>3662</th>\n",
       "      <td>649</td>\n",
       "      <td>3589</td>\n",
       "      <td>0</td>\n",
       "      <td>6/13/2018</td>\n",
       "      <td>6</td>\n",
       "      <td>22</td>\n",
       "      <td>24</td>\n",
       "      <td>31</td>\n",
       "      <td>32</td>\n",
       "      <td>34</td>\n",
       "      <td>16</td>\n",
       "    </tr>\n",
       "    <tr>\n",
       "      <th>3663</th>\n",
       "      <td>649</td>\n",
       "      <td>3590</td>\n",
       "      <td>0</td>\n",
       "      <td>6/16/2018</td>\n",
       "      <td>2</td>\n",
       "      <td>15</td>\n",
       "      <td>21</td>\n",
       "      <td>31</td>\n",
       "      <td>38</td>\n",
       "      <td>49</td>\n",
       "      <td>8</td>\n",
       "    </tr>\n",
       "    <tr>\n",
       "      <th>3664</th>\n",
       "      <td>649</td>\n",
       "      <td>3591</td>\n",
       "      <td>0</td>\n",
       "      <td>6/20/2018</td>\n",
       "      <td>14</td>\n",
       "      <td>24</td>\n",
       "      <td>31</td>\n",
       "      <td>35</td>\n",
       "      <td>37</td>\n",
       "      <td>48</td>\n",
       "      <td>17</td>\n",
       "    </tr>\n",
       "  </tbody>\n",
       "</table>\n",
       "</div>"
      ],
      "text/plain": [
       "      PRODUCT  DRAW NUMBER  SEQUENCE NUMBER  DRAW DATE  NUMBER DRAWN 1  \\\n",
       "3662      649         3589                0  6/13/2018               6   \n",
       "3663      649         3590                0  6/16/2018               2   \n",
       "3664      649         3591                0  6/20/2018              14   \n",
       "\n",
       "      NUMBER DRAWN 2  NUMBER DRAWN 3  NUMBER DRAWN 4  NUMBER DRAWN 5  \\\n",
       "3662              22              24              31              32   \n",
       "3663              15              21              31              38   \n",
       "3664              24              31              35              37   \n",
       "\n",
       "      NUMBER DRAWN 6  BONUS NUMBER  \n",
       "3662              34            16  \n",
       "3663              49             8  \n",
       "3664              48            17  "
      ]
     },
     "execution_count": 4,
     "metadata": {},
     "output_type": "execute_result"
    }
   ],
   "source": [
    "lottery.tail(3)"
   ]
  },
  {
   "cell_type": "markdown",
   "metadata": {},
   "source": [
    "## Creating the Function for Historical Data Check\n",
    "\n",
    "Noting the previous details the engineering team wants us to consider, this next function needs to print:\n",
    "- The number of times the combination inputted occurred in the Canada data set.\n",
    "- The probability of winning the big prize in the next drawing with that combination. \n",
    "\n",
    "We'll start with a function to extract all the winning numbers from the lottery data set. The `extract_numbers()` function will run over each row in the data set to extract the six winning numbers as a Python set."
   ]
  },
  {
   "cell_type": "code",
   "execution_count": 18,
   "metadata": {},
   "outputs": [
    {
     "data": {
      "text/plain": [
       "0    {3, 41, 11, 12, 43, 14}\n",
       "1    {33, 36, 37, 39, 8, 41}\n",
       "2     {1, 6, 39, 23, 24, 27}\n",
       "3     {3, 9, 10, 43, 13, 20}\n",
       "4    {34, 5, 14, 47, 21, 31}\n",
       "dtype: object"
      ]
     },
     "execution_count": 18,
     "metadata": {},
     "output_type": "execute_result"
    }
   ],
   "source": [
    "# Writing a function to extract the winning numbers as a set.\n",
    "def extract_numbers(row):\n",
    "    row = row[4:10]\n",
    "    row = set(row.values)\n",
    "    return row\n",
    "\n",
    "past_winning = lottery.apply(extract_numbers, axis = 1)\n",
    "past_winning.head()"
   ]
  },
  {
   "cell_type": "markdown",
   "metadata": {},
   "source": [
    "Below, we write the `check_historical_occurrences()` function that takes in the user's inputted numbers and the historical numbers. It prints information with regards to the number of historical occurrences and the probability of winning the next drawing."
   ]
  },
  {
   "cell_type": "code",
   "execution_count": 15,
   "metadata": {},
   "outputs": [],
   "source": [
    "def check_historical_occurrences(u_input, past_winning_nums):\n",
    "    '''\n",
    "    u_input: a Python list\n",
    "    past_winning_nums: a pandas Series\n",
    "    '''\n",
    "    \n",
    "    user_input = set(u_input)\n",
    "    check_occurrence = (user_input == past_winning_nums) # Parentheses added to avoid confusion\n",
    "    matches = sum(check_occurrence)\n",
    "    \n",
    "    if matches == 0:\n",
    "        print('''The combination {} has never occurred. \n",
    "This doesn't make it more likely to occur now. Your chances to win the big prize in the next drawing using the combination {} are 0.000072%.\n",
    "In other words, you have a 1 in 13,983,816 chances of winning.'''.format(user_input, user_input))\n",
    "        \n",
    "    else:\n",
    "        print('''The number of times {} has occurred in past drawings is {}.\n",
    "Your chances to win the big prize in the next drawing using the combination {} are 0.0000072%.\n",
    "In other words, you have a 1 in 13,983,816 chances to win.'''.format(user_input, matches,\n",
    "                                                                     user_input))"
   ]
  },
  {
   "cell_type": "code",
   "execution_count": 19,
   "metadata": {},
   "outputs": [
    {
     "name": "stdout",
     "output_type": "stream",
     "text": [
      "The number of times {3, 41, 11, 12, 43, 14} has occurred in past drawings is 1.\n",
      "Your chances to win the big prize in the next drawing using the combination {3, 41, 11, 12, 43, 14} are 0.0000072%.\n",
      "In other words, you have a 1 in 13,983,816 chances to win.\n"
     ]
    }
   ],
   "source": [
    "# Using a known match to test the case of inputting a previous winning set.\n",
    "test_set_1 = [3, 11, 12, 14, 41, 43]\n",
    "check_historical_occurrences(test_set_1, past_winning)"
   ]
  },
  {
   "cell_type": "code",
   "execution_count": 23,
   "metadata": {},
   "outputs": [
    {
     "name": "stdout",
     "output_type": "stream",
     "text": [
      "The combination {6, 7, 41, 49, 21, 28} has never occurred. \n",
      "This doesn't make it more likely to occur now. Your chances to win the big prize in the next drawing using the combination {6, 7, 41, 49, 21, 28} are 0.000072%.\n",
      "In other words, you have a 1 in 13,983,816 chances of winning.\n"
     ]
    }
   ],
   "source": [
    "# Using an unknown match to test the case of inputting a non-previously winning set.\n",
    "test_set_2 = [6, 7, 21, 28, 41, 49]\n",
    "check_historical_occurrences(test_set_2, past_winning)"
   ]
  },
  {
   "cell_type": "markdown",
   "metadata": {},
   "source": [
    "## Multi-ticket Probability\n",
    "\n",
    "Lottery addicts usually play more than one ticket on a single drawing, with the idea that doing this will significantly increase their chances of winning. To help them better estimate their chances of winning, we'll write a function that allows users to calculate the chances of winning with any number of different tickets.\n",
    "\n",
    "We talked with the engineering team and they gave us this information:\n",
    "- The user will input the number of *different* tickets they want to play (without inputting the specific combinations they intend to play).\n",
    "- Our function will see an integer ranging from 1 to 13,983,816 (the maximum number of different tickets).\n",
    "- The function should print information about the probability of winning the big prize based on the number of different tickets played."
   ]
  },
  {
   "cell_type": "code",
   "execution_count": 49,
   "metadata": {},
   "outputs": [],
   "source": [
    "def multi_ticket_probability(num_tickets):\n",
    "    total_outcomes = combinations(49, 6)\n",
    "    successful_outcomes = num_tickets\n",
    "    chances = successful_outcomes / total_outcomes * 100\n",
    "    \n",
    "    if num_tickets == 1:\n",
    "        print('''Your chances of winning the big prize with the one ticket are {:.6f}%.\n",
    "In other words, you have a 1 in {:,} chances of winning.'''.format(chances, int(total_outcomes)))\n",
    "        \n",
    "    else:\n",
    "        combinations_simplified = round(total_outcomes / num_tickets)\n",
    "        print('''Your chances of winning the big prize with {:,} different tickets are {:.6f}%.\n",
    "In other words, you have a 1 in {:,} chances of winning.'''.format(num_tickets, chances, \n",
    "                                                               combinations_simplified))"
   ]
  },
  {
   "cell_type": "markdown",
   "metadata": {},
   "source": [
    "Below, we run a few tests to test our function."
   ]
  },
  {
   "cell_type": "code",
   "execution_count": 50,
   "metadata": {},
   "outputs": [
    {
     "name": "stdout",
     "output_type": "stream",
     "text": [
      "Your chances of winning the big prize with the one ticket are 0.000007%.\n",
      "In other words, you have a 1 in 13,983,816 chances of winning.\n",
      "--------------------\n",
      "Your chances of winning the big prize with 10 different tickets are 0.000072%.\n",
      "In other words, you have a 1 in 1,398,382 chances of winning.\n",
      "--------------------\n",
      "Your chances of winning the big prize with 100 different tickets are 0.000715%.\n",
      "In other words, you have a 1 in 139,838 chances of winning.\n",
      "--------------------\n",
      "Your chances of winning the big prize with 10,000 different tickets are 0.071511%.\n",
      "In other words, you have a 1 in 1,398 chances of winning.\n",
      "--------------------\n",
      "Your chances of winning the big prize with 1,000,000 different tickets are 7.151124%.\n",
      "In other words, you have a 1 in 14 chances of winning.\n",
      "--------------------\n",
      "Your chances of winning the big prize with 6,991,908 different tickets are 50.000000%.\n",
      "In other words, you have a 1 in 2 chances of winning.\n",
      "--------------------\n",
      "Your chances of winning the big prize with 13,983,816 different tickets are 100.000000%.\n",
      "In other words, you have a 1 in 1 chances of winning.\n",
      "--------------------\n"
     ]
    }
   ],
   "source": [
    "test_inputs = [1, 10, 100, 10000, 1000000, 6991908, 13983816]\n",
    "\n",
    "for test_input in test_inputs:\n",
    "    multi_ticket_probability(test_input)\n",
    "    print('--------------------') # This will separate the outputs"
   ]
  },
  {
   "cell_type": "markdown",
   "metadata": {},
   "source": [
    "## Fewer Winning Numbers\n",
    "Most 6/49 lotteries have smaller prizes if a player's ticket matches two, three, four, or five of the six numbers drawn. Users might want to know the probability of having two, three, four, or five winning numbers. The engineering team told us these things we need to take into account:\n",
    "- Inside the app, the user inputs:\n",
    "    - six different numbers from 1 to 49.\n",
    "    - an integer between 2 and 5 that represents the number of winning numbers expected.\n",
    "- Our function prints information about the probability of having the inputted number of winning numbers."
   ]
  },
  {
   "cell_type": "code",
   "execution_count": 51,
   "metadata": {},
   "outputs": [],
   "source": [
    "def probability_below_6(num_winning):\n",
    "    n_combinations_ticket = combinations(6, num_winning)\n",
    "    n_combinations_remaining = combinations(43, 6 - num_winning)\n",
    "    successful_outcomes = n_combinations_ticket * n_combinations_remaining\n",
    "    \n",
    "    total_outcomes = combinations(49, 6)\n",
    "    chances = successful_outcomes / total_outcomes * 100\n",
    "    combinations_simplified = round(total_outcomes / successful_outcomes)\n",
    "    \n",
    "    print('''Your chances of having {} winning numbers with this ticket are {:.6f}%.\n",
    "In other words, you have a 1 in {:,} chances of winning.'''.format(num_winning, chances, \n",
    "                                                               int(combinations_simplified)))"
   ]
  },
  {
   "cell_type": "markdown",
   "metadata": {},
   "source": [
    "Now, let's test the function on all four possible inputs."
   ]
  },
  {
   "cell_type": "code",
   "execution_count": 52,
   "metadata": {},
   "outputs": [
    {
     "name": "stdout",
     "output_type": "stream",
     "text": [
      "Your chances of having 2 winning numbers with this ticket are 13.237803%.\n",
      "In other words, you have a 1 in 8 chances of winning.\n",
      "--------------------\n",
      "Your chances of having 3 winning numbers with this ticket are 1.765040%.\n",
      "In other words, you have a 1 in 57 chances of winning.\n",
      "--------------------\n",
      "Your chances of having 4 winning numbers with this ticket are 0.096862%.\n",
      "In other words, you have a 1 in 1,032 chances of winning.\n",
      "--------------------\n",
      "Your chances of having 5 winning numbers with this ticket are 0.001845%.\n",
      "In other words, you have a 1 in 54,201 chances of winning.\n",
      "--------------------\n"
     ]
    }
   ],
   "source": [
    "for test_input in [2, 3, 4, 5]:\n",
    "    probability_below_6(test_input)\n",
    "    print('--------------------') # This will separate the outputs"
   ]
  },
  {
   "cell_type": "markdown",
   "metadata": {},
   "source": [
    "## Next Steps\n",
    "\n",
    "With that, all the function requirements for the app are met. If the medicial institute wanted to pursue a second version of the app, possible features could include:\n",
    "- Adding fun analogies to make the outputs easier to understand (for instance, we can find probabilities for strange events and compare with the chances of winning in the lottery; e.g. 'You are 10 times more likely to be struck by lightning than win the lottery.')\n",
    "- Creating a function similar to `probability_below_6()` that would calculate the probability of having *at least* two, three, four, or five winning numbers."
   ]
  }
 ],
 "metadata": {
  "kernelspec": {
   "display_name": "Python 3",
   "language": "python",
   "name": "python3"
  },
  "language_info": {
   "codemirror_mode": {
    "name": "ipython",
    "version": 3
   },
   "file_extension": ".py",
   "mimetype": "text/x-python",
   "name": "python",
   "nbconvert_exporter": "python",
   "pygments_lexer": "ipython3",
   "version": "3.7.6"
  }
 },
 "nbformat": 4,
 "nbformat_minor": 4
}
